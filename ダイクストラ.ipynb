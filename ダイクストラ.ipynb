{
 "cells": [
  {
   "cell_type": "code",
   "execution_count": 1,
   "metadata": {},
   "outputs": [],
   "source": [
    "import numpy as np"
   ]
  },
  {
   "cell_type": "markdown",
   "metadata": {},
   "source": [
    "$$\n",
    "\\begin{array}{cccc}\n",
    " &a&b&c&s&z\\\\\n",
    "\\hline\n",
    "a&0&1&1&0&0\\\\\n",
    "b&1&0&1&0&1\\\\\n",
    "c&0&0&0&0&1\\\\\n",
    "s&1&1&0&0&0\\\\\n",
    "z&0&0&1&1&0\\\\\n",
    "\\end{array}\n",
    "\\quad\n",
    "\\begin{array}{cccc}\n",
    " &a&b&c&s&z\\\\\n",
    "\\hline\n",
    "a&0&2&6&0&0\\\\\n",
    "b&1&0&4&0&6\\\\\n",
    "c&0&0&0&0&2\\\\\n",
    "s&3&5&0&0&0\\\\\n",
    "z&0&0&7&3&0\\\\\n",
    "\\end{array}\n",
    "$$"
   ]
  },
  {
   "cell_type": "code",
   "execution_count": 4,
   "metadata": {},
   "outputs": [
    {
     "data": {
      "text/plain": [
       "array([1, 0, 4, 0, 6])"
      ]
     },
     "execution_count": 4,
     "metadata": {},
     "output_type": "execute_result"
    }
   ],
   "source": [
    "adjacency_matrix = np.array([[0, 2, 6, 0, 0],\n",
    "                             [1, 0, 4, 0, 6],\n",
    "                             [0, 0, 0, 0, 2],\n",
    "                             [3, 5, 0, 0, 0],\n",
    "                             [0, 0, 7, 3, 0]])"
   ]
  },
  {
   "cell_type": "code",
   "execution_count": 72,
   "metadata": {},
   "outputs": [],
   "source": [
    "def dijkstra(adjacency_matrix, init_edge):\n",
    "    num_v = len(adjacency_matrix)\n",
    "    route = {i:[np.inf, None] for i in range(num_v)}\n",
    "    route[init_edge] = [0, None]\n",
    "    P = []\n",
    "    start_edges = [init_edge]\n",
    "    while len(P) < num_v:\n",
    "        next_edges = []\n",
    "        for start_edge in start_edges:\n",
    "            P.append(start_edge)\n",
    "            # 近い頂点から順に探索\n",
    "            for edge, cost in enumerate(adjacency_matrix[start_edge]):\n",
    "                if cost == 0:\n",
    "                    continue\n",
    "                d = route[edge][0]\n",
    "                new_d = route[start_edge][0] + cost\n",
    "                if new_d < d:\n",
    "                    route[edge] = [new_d, start_edge]\n",
    "                    next_edges.append(edge)\n",
    "        start_edges = sorted(next_edges)\n",
    "    return route"
   ]
  },
  {
   "cell_type": "code",
   "execution_count": 74,
   "metadata": {},
   "outputs": [],
   "source": [
    "route = dijkstra(adjacency_matrix, 3)"
   ]
  },
  {
   "cell_type": "code",
   "execution_count": 78,
   "metadata": {},
   "outputs": [
    {
     "name": "stdout",
     "output_type": "stream",
     "text": [
      "a 3 s\n",
      "b 5 s\n",
      "c 9 a\n",
      "s 0 None\n",
      "z 11 b\n"
     ]
    }
   ],
   "source": [
    "dic = {0: 'a', 1: 'b', 2: 'c', 3: 's', 4: 'z'}\n",
    "for key, value in route.items():\n",
    "    if value[1] == None:\n",
    "        print(dic[key], value[0], value[1])\n",
    "    else:\n",
    "        print(dic[key], value[0], dic[value[1]])"
   ]
  }
 ],
 "metadata": {
  "kernelspec": {
   "display_name": "Python 3.9.15 64-bit",
   "language": "python",
   "name": "python3"
  },
  "language_info": {
   "codemirror_mode": {
    "name": "ipython",
    "version": 3
   },
   "file_extension": ".py",
   "mimetype": "text/x-python",
   "name": "python",
   "nbconvert_exporter": "python",
   "pygments_lexer": "ipython3",
   "version": "3.9.15"
  },
  "orig_nbformat": 4,
  "vscode": {
   "interpreter": {
    "hash": "a665b5d41d17b532ea9890333293a1b812fa0b73c9c25c950b3cedf1bebd0438"
   }
  }
 },
 "nbformat": 4,
 "nbformat_minor": 2
}
